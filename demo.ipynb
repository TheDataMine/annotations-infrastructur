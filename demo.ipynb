{
 "cells": [
  {
   "cell_type": "markdown",
   "metadata": {},
   "source": [
    "## Combining Prodigy Datasets from Multiple Annotators\n",
    "\n",
    "### Justin A. Gould\n",
    "\n",
    "### February 2021"
   ]
  },
  {
   "cell_type": "markdown",
   "metadata": {},
   "source": [
    "## Required Packages"
   ]
  },
  {
   "cell_type": "code",
   "execution_count": null,
   "metadata": {},
   "outputs": [],
   "source": [
    "#Internal Packages\n",
    "from src.combine_data import combine"
   ]
  },
  {
   "cell_type": "markdown",
   "metadata": {},
   "source": [
    "## Scenario 1: Combining Datasets within a Single Database"
   ]
  },
  {
   "cell_type": "code",
   "execution_count": null,
   "metadata": {},
   "outputs": [],
   "source": [
    "#Inputs\n",
    "db_path = \"./sample_data/prod3.db\"\n",
    "new_dataset_name = \"new_data\"\n",
    "datasets_to_combine = [\"cummins_gould29\", \"demo_set\"]\n",
    "\n",
    "#Run Function\n",
    "combine.combine_within_database(db_path, \n",
    "                                new_dataset_name, \n",
    "                                datasets_to_combine)"
   ]
  },
  {
   "cell_type": "markdown",
   "metadata": {},
   "source": [
    "### Scenario 2: Combining Datasets from Different Databases"
   ]
  },
  {
   "cell_type": "code",
   "execution_count": null,
   "metadata": {},
   "outputs": [],
   "source": [
    "#Inputs\n",
    "d = {\"databases\" : \n",
    "        {\n",
    "            \"./sample_data/prod_multiple1.db\" :  {\n",
    "                                \"datasets_to_combine\" : [\"cummins_gould29\"]\n",
    "                                },\n",
    "            \"./sample_data/prod_multiple2.db\" :  {\n",
    "                                \"datasets_to_combine\" : [\"cummins_gould29\", \"demo_set\", \"my_set\"]\n",
    "                                },\n",
    "            \"./sample_data/prod_multiple3.db\" :  {\n",
    "                                \"datasets_to_combine\" : [\"cummins_gould29\", \"demo_set\"]\n",
    "                                }\n",
    "                    },\n",
    "     \"new_dataset_name\" : \"newest_data_combo\",\n",
    "     \"db_path_to_save\"  : \"./sample_data/prod_multiple2.db\"\n",
    "}\n",
    "\n",
    "#Run Function\n",
    "combine.combine_databases(d)"
   ]
  }
 ],
 "metadata": {
  "language_info": {
   "name": "python"
  },
  "orig_nbformat": 4
 },
 "nbformat": 4,
 "nbformat_minor": 2
}
